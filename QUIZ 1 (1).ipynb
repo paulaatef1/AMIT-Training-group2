{
 "cells": [
  {
   "cell_type": "markdown",
   "metadata": {
    "collapsed": true
   },
   "source": [
    "# QUIZ\n",
    "Let's test your knowledge!"
   ]
  },
  {
   "cell_type": "markdown",
   "metadata": {},
   "source": [
    "_____\n",
    "**Use <code>for</code>, .split(), and <code>if</code> to create a Statement that will print out words that start with 's':**"
   ]
  },
  {
   "cell_type": "code",
   "execution_count": 66,
   "metadata": {},
   "outputs": [],
   "source": [
    "st = 'Print only the words that start with s in this sentence'"
   ]
  },
  {
   "cell_type": "code",
   "execution_count": 65,
   "metadata": {},
   "outputs": [
    {
     "name": "stdout",
     "output_type": "stream",
     "text": [
      "start\n",
      "s\n",
      "sentence\n"
     ]
    }
   ],
   "source": [
    "#Code here\n",
    "st = 'Print only the words that start with s in this sentence'\n",
    "s=st.split() # for separating words\n",
    "for i in range(0,len(s)): \n",
    "    if s[i][0]=='s': # see if the 1st letter is 's' or not\n",
    "        print(s[i])"
   ]
  },
  {
   "cell_type": "markdown",
   "metadata": {},
   "source": [
    "______\n",
    "**Use range() to print all the even numbers from 0 to 10.**"
   ]
  },
  {
   "cell_type": "code",
   "execution_count": 67,
   "metadata": {},
   "outputs": [
    {
     "name": "stdout",
     "output_type": "stream",
     "text": [
      "0\n",
      "1\n",
      "2\n",
      "3\n",
      "4\n",
      "5\n",
      "6\n",
      "7\n",
      "8\n",
      "9\n",
      "10\n"
     ]
    }
   ],
   "source": [
    "for i in range(0,11): # couting from 0 to 10\n",
    "    print(i) # printing the counted numbers"
   ]
  },
  {
   "cell_type": "markdown",
   "metadata": {},
   "source": [
    "___\n",
    "**Use a List Comprehension to create a list of all numbers between 1 and 50 that are divisible by 3.**"
   ]
  },
  {
   "cell_type": "code",
   "execution_count": 69,
   "metadata": {},
   "outputs": [
    {
     "name": "stdout",
     "output_type": "stream",
     "text": [
      "[0, 3, 6, 9, 12, 15, 18, 21, 24, 27, 30, 33, 36, 39, 42, 45, 48]\n"
     ]
    }
   ],
   "source": [
    "#Code Here\n",
    "z=[]\n",
    "for i in range(0,51):\n",
    "    if i%3==0 :\n",
    "        z.append(i)\n",
    "print(z)"
   ]
  },
  {
   "cell_type": "markdown",
   "metadata": {},
   "source": [
    "_____\n",
    "**Go through the string below and if the length of a word is even print \"even!\"**"
   ]
  },
  {
   "cell_type": "code",
   "execution_count": 16,
   "metadata": {},
   "outputs": [],
   "source": [
    "st = 'Print every word in this sentence that has an even number of letters'"
   ]
  },
  {
   "cell_type": "code",
   "execution_count": 34,
   "metadata": {},
   "outputs": [
    {
     "name": "stdout",
     "output_type": "stream",
     "text": [
      "word\n",
      "in\n",
      "this\n",
      "sentence\n",
      "that\n",
      "an\n",
      "even\n",
      "number\n",
      "of\n"
     ]
    }
   ],
   "source": [
    "#Code in this cell\n",
    "s=st.split() \n",
    "for i in range(0,len(s)):\n",
    "    if len(s[i])%2==0:\n",
    "        print (s[i])\n",
    "   "
   ]
  },
  {
   "cell_type": "markdown",
   "metadata": {},
   "source": [
    "____\n",
    "**Write a program that prints the integers from 1 to 100. But for multiples of three print \"Fizz\" instead of the number, and for the multiples of five print \"Buzz\". For numbers which are multiples of both three and five print \"FizzBuzz\".**"
   ]
  },
  {
   "cell_type": "code",
   "execution_count": 37,
   "metadata": {},
   "outputs": [
    {
     "name": "stdout",
     "output_type": "stream",
     "text": [
      "3 .Fizz\n",
      "5 .Buzz\n",
      "6 .Fizz\n",
      "9 .Fizz\n",
      "10 .Buzz\n",
      "12 .Fizz\n",
      "15 .FizzBuzz\n",
      "18 .Fizz\n",
      "20 .Buzz\n",
      "21 .Fizz\n",
      "24 .Fizz\n",
      "25 .Buzz\n",
      "27 .Fizz\n",
      "30 .FizzBuzz\n",
      "33 .Fizz\n",
      "35 .Buzz\n",
      "36 .Fizz\n",
      "39 .Fizz\n",
      "40 .Buzz\n",
      "42 .Fizz\n",
      "45 .FizzBuzz\n",
      "48 .Fizz\n",
      "50 .Buzz\n",
      "51 .Fizz\n",
      "54 .Fizz\n",
      "55 .Buzz\n",
      "57 .Fizz\n",
      "60 .FizzBuzz\n",
      "63 .Fizz\n",
      "65 .Buzz\n",
      "66 .Fizz\n",
      "69 .Fizz\n",
      "70 .Buzz\n",
      "72 .Fizz\n",
      "75 .FizzBuzz\n",
      "78 .Fizz\n",
      "80 .Buzz\n",
      "81 .Fizz\n",
      "84 .Fizz\n",
      "85 .Buzz\n",
      "87 .Fizz\n",
      "90 .FizzBuzz\n",
      "93 .Fizz\n",
      "95 .Buzz\n",
      "96 .Fizz\n",
      "99 .Fizz\n",
      "100 .Buzz\n"
     ]
    }
   ],
   "source": [
    "#Code in this cell\n",
    "for i in range(1,101):\n",
    "    if i%3 ==0 and i%5 ==0:\n",
    "        print(i,'.FizzBuzz')\n",
    "    elif i%3==0:\n",
    "        print(i,'.Fizz')\n",
    "    elif i%5 ==0:\n",
    "        print(i,'.Buzz')"
   ]
  },
  {
   "cell_type": "markdown",
   "metadata": {},
   "source": [
    "____\n",
    "**Use List Comprehension to create a list of the first letters of every word in the string below:**"
   ]
  },
  {
   "cell_type": "code",
   "execution_count": 41,
   "metadata": {},
   "outputs": [],
   "source": [
    "st = 'Create a list of the first letters of every word in this string'"
   ]
  },
  {
   "cell_type": "code",
   "execution_count": 45,
   "metadata": {},
   "outputs": [
    {
     "name": "stdout",
     "output_type": "stream",
     "text": [
      "C\n",
      "a\n",
      "l\n",
      "o\n",
      "t\n",
      "f\n",
      "l\n",
      "o\n",
      "e\n",
      "w\n",
      "i\n",
      "t\n",
      "s\n"
     ]
    }
   ],
   "source": [
    "#Code in this cell\n",
    "st = 'Create a list of the first letters of every word in this string'\n",
    "a=st.split() \n",
    "for i in range(0,len(s)):\n",
    "    print(a[i][0])"
   ]
  },
  {
   "cell_type": "markdown",
   "metadata": {},
   "source": [
    "### Great Job!"
   ]
  }
 ],
 "metadata": {
  "kernelspec": {
   "display_name": "Python 3 (ipykernel)",
   "language": "python",
   "name": "python3"
  },
  "language_info": {
   "codemirror_mode": {
    "name": "ipython",
    "version": 3
   },
   "file_extension": ".py",
   "mimetype": "text/x-python",
   "name": "python",
   "nbconvert_exporter": "python",
   "pygments_lexer": "ipython3",
   "version": "3.9.12"
  }
 },
 "nbformat": 4,
 "nbformat_minor": 1
}
